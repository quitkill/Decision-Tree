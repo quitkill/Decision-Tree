{
 "cells": [
  {
   "cell_type": "code",
   "execution_count": 1,
   "metadata": {},
   "outputs": [],
   "source": [
    "import pandas as pd"
   ]
  },
  {
   "cell_type": "code",
   "execution_count": 2,
   "metadata": {},
   "outputs": [],
   "source": [
    "from pathlib import Path"
   ]
  },
  {
   "cell_type": "code",
   "execution_count": 3,
   "metadata": {},
   "outputs": [],
   "source": [
    "r = Path(Path.home(),'Documents','netflix_titles.csv')"
   ]
  },
  {
   "cell_type": "code",
   "execution_count": 4,
   "metadata": {},
   "outputs": [],
   "source": [
    "dataset = pd.read_excel(r)"
   ]
  },
  {
   "cell_type": "code",
   "execution_count": 5,
   "metadata": {},
   "outputs": [
    {
     "data": {
      "text/html": [
       "<div>\n",
       "<style scoped>\n",
       "    .dataframe tbody tr th:only-of-type {\n",
       "        vertical-align: middle;\n",
       "    }\n",
       "\n",
       "    .dataframe tbody tr th {\n",
       "        vertical-align: top;\n",
       "    }\n",
       "\n",
       "    .dataframe thead th {\n",
       "        text-align: right;\n",
       "    }\n",
       "</style>\n",
       "<table border=\"1\" class=\"dataframe\">\n",
       "  <thead>\n",
       "    <tr style=\"text-align: right;\">\n",
       "      <th></th>\n",
       "      <th>duration_minutes</th>\n",
       "      <th>duration_seasons</th>\n",
       "      <th>type</th>\n",
       "      <th>title</th>\n",
       "      <th>date_added</th>\n",
       "      <th>release_year</th>\n",
       "      <th>rating</th>\n",
       "      <th>description</th>\n",
       "      <th>show_id</th>\n",
       "    </tr>\n",
       "  </thead>\n",
       "  <tbody>\n",
       "    <tr>\n",
       "      <th>0</th>\n",
       "      <td>90</td>\n",
       "      <td>NaN</td>\n",
       "      <td>Movie</td>\n",
       "      <td>Norm of the North: King Sized Adventure</td>\n",
       "      <td>2019-09-09 00:00:00</td>\n",
       "      <td>2019.0</td>\n",
       "      <td>TV-PG</td>\n",
       "      <td>Before planning an awesome wedding for his gra...</td>\n",
       "      <td>81145628.0</td>\n",
       "    </tr>\n",
       "    <tr>\n",
       "      <th>1</th>\n",
       "      <td>94</td>\n",
       "      <td>NaN</td>\n",
       "      <td>Movie</td>\n",
       "      <td>Jandino: Whatever it Takes</td>\n",
       "      <td>2016-09-09 00:00:00</td>\n",
       "      <td>2016.0</td>\n",
       "      <td>TV-MA</td>\n",
       "      <td>Jandino Asporaat riffs on the challenges of ra...</td>\n",
       "      <td>80117401.0</td>\n",
       "    </tr>\n",
       "    <tr>\n",
       "      <th>2</th>\n",
       "      <td>NaN</td>\n",
       "      <td>1</td>\n",
       "      <td>TV Show</td>\n",
       "      <td>Transformers Prime</td>\n",
       "      <td>2018-09-08 00:00:00</td>\n",
       "      <td>2013.0</td>\n",
       "      <td>TV-Y7-FV</td>\n",
       "      <td>With the help of three human allies, the Autob...</td>\n",
       "      <td>70234439.0</td>\n",
       "    </tr>\n",
       "    <tr>\n",
       "      <th>3</th>\n",
       "      <td>NaN</td>\n",
       "      <td>1</td>\n",
       "      <td>TV Show</td>\n",
       "      <td>Transformers: Robots in Disguise</td>\n",
       "      <td>2018-09-08 00:00:00</td>\n",
       "      <td>2016.0</td>\n",
       "      <td>TV-Y7</td>\n",
       "      <td>When a prison ship crash unleashes hundreds of...</td>\n",
       "      <td>80058654.0</td>\n",
       "    </tr>\n",
       "    <tr>\n",
       "      <th>4</th>\n",
       "      <td>99</td>\n",
       "      <td>NaN</td>\n",
       "      <td>Movie</td>\n",
       "      <td>#realityhigh</td>\n",
       "      <td>2017-09-08 00:00:00</td>\n",
       "      <td>2017.0</td>\n",
       "      <td>TV-14</td>\n",
       "      <td>When nerdy high schooler Dani finally attracts...</td>\n",
       "      <td>80125979.0</td>\n",
       "    </tr>\n",
       "  </tbody>\n",
       "</table>\n",
       "</div>"
      ],
      "text/plain": [
       "  duration_minutes duration_seasons     type  \\\n",
       "0               90              NaN    Movie   \n",
       "1               94              NaN    Movie   \n",
       "2              NaN                1  TV Show   \n",
       "3              NaN                1  TV Show   \n",
       "4               99              NaN    Movie   \n",
       "\n",
       "                                     title           date_added  release_year  \\\n",
       "0  Norm of the North: King Sized Adventure  2019-09-09 00:00:00        2019.0   \n",
       "1               Jandino: Whatever it Takes  2016-09-09 00:00:00        2016.0   \n",
       "2                       Transformers Prime  2018-09-08 00:00:00        2013.0   \n",
       "3         Transformers: Robots in Disguise  2018-09-08 00:00:00        2016.0   \n",
       "4                             #realityhigh  2017-09-08 00:00:00        2017.0   \n",
       "\n",
       "     rating                                        description     show_id  \n",
       "0     TV-PG  Before planning an awesome wedding for his gra...  81145628.0  \n",
       "1     TV-MA  Jandino Asporaat riffs on the challenges of ra...  80117401.0  \n",
       "2  TV-Y7-FV  With the help of three human allies, the Autob...  70234439.0  \n",
       "3     TV-Y7  When a prison ship crash unleashes hundreds of...  80058654.0  \n",
       "4     TV-14  When nerdy high schooler Dani finally attracts...  80125979.0  "
      ]
     },
     "execution_count": 5,
     "metadata": {},
     "output_type": "execute_result"
    }
   ],
   "source": [
    "dataset.head()"
   ]
  },
  {
   "cell_type": "code",
   "execution_count": 6,
   "metadata": {},
   "outputs": [
    {
     "data": {
      "text/html": [
       "<div>\n",
       "<style scoped>\n",
       "    .dataframe tbody tr th:only-of-type {\n",
       "        vertical-align: middle;\n",
       "    }\n",
       "\n",
       "    .dataframe tbody tr th {\n",
       "        vertical-align: top;\n",
       "    }\n",
       "\n",
       "    .dataframe thead th {\n",
       "        text-align: right;\n",
       "    }\n",
       "</style>\n",
       "<table border=\"1\" class=\"dataframe\">\n",
       "  <thead>\n",
       "    <tr style=\"text-align: right;\">\n",
       "      <th></th>\n",
       "      <th>release_year</th>\n",
       "      <th>show_id</th>\n",
       "    </tr>\n",
       "  </thead>\n",
       "  <tbody>\n",
       "    <tr>\n",
       "      <th>count</th>\n",
       "      <td>6.234000e+03</td>\n",
       "      <td>6.232000e+03</td>\n",
       "    </tr>\n",
       "    <tr>\n",
       "      <th>mean</th>\n",
       "      <td>1.486502e+04</td>\n",
       "      <td>7.670257e+07</td>\n",
       "    </tr>\n",
       "    <tr>\n",
       "      <th>std</th>\n",
       "      <td>1.014711e+06</td>\n",
       "      <td>1.094455e+07</td>\n",
       "    </tr>\n",
       "    <tr>\n",
       "      <th>min</th>\n",
       "      <td>1.925000e+03</td>\n",
       "      <td>2.477470e+05</td>\n",
       "    </tr>\n",
       "    <tr>\n",
       "      <th>25%</th>\n",
       "      <td>2.013000e+03</td>\n",
       "      <td>8.003569e+07</td>\n",
       "    </tr>\n",
       "    <tr>\n",
       "      <th>50%</th>\n",
       "      <td>2.016000e+03</td>\n",
       "      <td>8.016337e+07</td>\n",
       "    </tr>\n",
       "    <tr>\n",
       "      <th>75%</th>\n",
       "      <td>2.018000e+03</td>\n",
       "      <td>8.024491e+07</td>\n",
       "    </tr>\n",
       "    <tr>\n",
       "      <th>max</th>\n",
       "      <td>8.011919e+07</td>\n",
       "      <td>8.123573e+07</td>\n",
       "    </tr>\n",
       "  </tbody>\n",
       "</table>\n",
       "</div>"
      ],
      "text/plain": [
       "       release_year       show_id\n",
       "count  6.234000e+03  6.232000e+03\n",
       "mean   1.486502e+04  7.670257e+07\n",
       "std    1.014711e+06  1.094455e+07\n",
       "min    1.925000e+03  2.477470e+05\n",
       "25%    2.013000e+03  8.003569e+07\n",
       "50%    2.016000e+03  8.016337e+07\n",
       "75%    2.018000e+03  8.024491e+07\n",
       "max    8.011919e+07  8.123573e+07"
      ]
     },
     "execution_count": 6,
     "metadata": {},
     "output_type": "execute_result"
    }
   ],
   "source": [
    "dataset.describe()"
   ]
  },
  {
   "cell_type": "code",
   "execution_count": 7,
   "metadata": {},
   "outputs": [
    {
     "data": {
      "text/plain": [
       "duration_minutes    1969\n",
       "duration_seasons    4265\n",
       "type                   1\n",
       "title                  1\n",
       "date_added            13\n",
       "release_year           2\n",
       "rating                13\n",
       "description            3\n",
       "show_id                4\n",
       "dtype: int64"
      ]
     },
     "execution_count": 7,
     "metadata": {},
     "output_type": "execute_result"
    }
   ],
   "source": [
    "dataset.isnull().sum()"
   ]
  },
  {
   "cell_type": "code",
   "execution_count": 8,
   "metadata": {},
   "outputs": [],
   "source": [
    "dataset = dataset.drop(['duration_minutes','duration_seasons','description'],axis=1)"
   ]
  },
  {
   "cell_type": "code",
   "execution_count": 9,
   "metadata": {},
   "outputs": [
    {
     "data": {
      "text/html": [
       "<div>\n",
       "<style scoped>\n",
       "    .dataframe tbody tr th:only-of-type {\n",
       "        vertical-align: middle;\n",
       "    }\n",
       "\n",
       "    .dataframe tbody tr th {\n",
       "        vertical-align: top;\n",
       "    }\n",
       "\n",
       "    .dataframe thead th {\n",
       "        text-align: right;\n",
       "    }\n",
       "</style>\n",
       "<table border=\"1\" class=\"dataframe\">\n",
       "  <thead>\n",
       "    <tr style=\"text-align: right;\">\n",
       "      <th></th>\n",
       "      <th>type</th>\n",
       "      <th>title</th>\n",
       "      <th>date_added</th>\n",
       "      <th>release_year</th>\n",
       "      <th>rating</th>\n",
       "      <th>show_id</th>\n",
       "    </tr>\n",
       "  </thead>\n",
       "  <tbody>\n",
       "    <tr>\n",
       "      <th>0</th>\n",
       "      <td>Movie</td>\n",
       "      <td>Norm of the North: King Sized Adventure</td>\n",
       "      <td>2019-09-09 00:00:00</td>\n",
       "      <td>2019.0</td>\n",
       "      <td>TV-PG</td>\n",
       "      <td>81145628.0</td>\n",
       "    </tr>\n",
       "    <tr>\n",
       "      <th>1</th>\n",
       "      <td>Movie</td>\n",
       "      <td>Jandino: Whatever it Takes</td>\n",
       "      <td>2016-09-09 00:00:00</td>\n",
       "      <td>2016.0</td>\n",
       "      <td>TV-MA</td>\n",
       "      <td>80117401.0</td>\n",
       "    </tr>\n",
       "    <tr>\n",
       "      <th>2</th>\n",
       "      <td>TV Show</td>\n",
       "      <td>Transformers Prime</td>\n",
       "      <td>2018-09-08 00:00:00</td>\n",
       "      <td>2013.0</td>\n",
       "      <td>TV-Y7-FV</td>\n",
       "      <td>70234439.0</td>\n",
       "    </tr>\n",
       "    <tr>\n",
       "      <th>3</th>\n",
       "      <td>TV Show</td>\n",
       "      <td>Transformers: Robots in Disguise</td>\n",
       "      <td>2018-09-08 00:00:00</td>\n",
       "      <td>2016.0</td>\n",
       "      <td>TV-Y7</td>\n",
       "      <td>80058654.0</td>\n",
       "    </tr>\n",
       "    <tr>\n",
       "      <th>4</th>\n",
       "      <td>Movie</td>\n",
       "      <td>#realityhigh</td>\n",
       "      <td>2017-09-08 00:00:00</td>\n",
       "      <td>2017.0</td>\n",
       "      <td>TV-14</td>\n",
       "      <td>80125979.0</td>\n",
       "    </tr>\n",
       "    <tr>\n",
       "      <th>...</th>\n",
       "      <td>...</td>\n",
       "      <td>...</td>\n",
       "      <td>...</td>\n",
       "      <td>...</td>\n",
       "      <td>...</td>\n",
       "      <td>...</td>\n",
       "    </tr>\n",
       "    <tr>\n",
       "      <th>6231</th>\n",
       "      <td>TV Show</td>\n",
       "      <td>Red vs. Blue</td>\n",
       "      <td>NaN</td>\n",
       "      <td>2015.0</td>\n",
       "      <td>NR</td>\n",
       "      <td>80000063.0</td>\n",
       "    </tr>\n",
       "    <tr>\n",
       "      <th>6232</th>\n",
       "      <td>TV Show</td>\n",
       "      <td>Maron</td>\n",
       "      <td>NaN</td>\n",
       "      <td>2016.0</td>\n",
       "      <td>TV-MA</td>\n",
       "      <td>70286564.0</td>\n",
       "    </tr>\n",
       "    <tr>\n",
       "      <th>6233</th>\n",
       "      <td>Movie</td>\n",
       "      <td>Little Baby Bum: Nursery Rhyme Friends</td>\n",
       "      <td>NaN</td>\n",
       "      <td>2016.0</td>\n",
       "      <td>NaN</td>\n",
       "      <td>80116008.0</td>\n",
       "    </tr>\n",
       "    <tr>\n",
       "      <th>6234</th>\n",
       "      <td>TV Show</td>\n",
       "      <td>A Young Doctor's Notebook and Other Stories</td>\n",
       "      <td>NaN</td>\n",
       "      <td>2013.0</td>\n",
       "      <td>TV-MA</td>\n",
       "      <td>70281022.0</td>\n",
       "    </tr>\n",
       "    <tr>\n",
       "      <th>6235</th>\n",
       "      <td>TV Show</td>\n",
       "      <td>Friends</td>\n",
       "      <td>NaN</td>\n",
       "      <td>2003.0</td>\n",
       "      <td>TV-14</td>\n",
       "      <td>70153404.0</td>\n",
       "    </tr>\n",
       "  </tbody>\n",
       "</table>\n",
       "<p>6236 rows × 6 columns</p>\n",
       "</div>"
      ],
      "text/plain": [
       "         type                                        title  \\\n",
       "0       Movie      Norm of the North: King Sized Adventure   \n",
       "1       Movie                   Jandino: Whatever it Takes   \n",
       "2     TV Show                           Transformers Prime   \n",
       "3     TV Show             Transformers: Robots in Disguise   \n",
       "4       Movie                                 #realityhigh   \n",
       "...       ...                                          ...   \n",
       "6231  TV Show                                 Red vs. Blue   \n",
       "6232  TV Show                                        Maron   \n",
       "6233    Movie       Little Baby Bum: Nursery Rhyme Friends   \n",
       "6234  TV Show  A Young Doctor's Notebook and Other Stories   \n",
       "6235  TV Show                                      Friends   \n",
       "\n",
       "               date_added  release_year    rating     show_id  \n",
       "0     2019-09-09 00:00:00        2019.0     TV-PG  81145628.0  \n",
       "1     2016-09-09 00:00:00        2016.0     TV-MA  80117401.0  \n",
       "2     2018-09-08 00:00:00        2013.0  TV-Y7-FV  70234439.0  \n",
       "3     2018-09-08 00:00:00        2016.0     TV-Y7  80058654.0  \n",
       "4     2017-09-08 00:00:00        2017.0     TV-14  80125979.0  \n",
       "...                   ...           ...       ...         ...  \n",
       "6231                  NaN        2015.0        NR  80000063.0  \n",
       "6232                  NaN        2016.0     TV-MA  70286564.0  \n",
       "6233                  NaN        2016.0       NaN  80116008.0  \n",
       "6234                  NaN        2013.0     TV-MA  70281022.0  \n",
       "6235                  NaN        2003.0     TV-14  70153404.0  \n",
       "\n",
       "[6236 rows x 6 columns]"
      ]
     },
     "execution_count": 9,
     "metadata": {},
     "output_type": "execute_result"
    }
   ],
   "source": [
    "dataset"
   ]
  },
  {
   "cell_type": "code",
   "execution_count": 10,
   "metadata": {},
   "outputs": [
    {
     "data": {
      "text/plain": [
       "type             1\n",
       "title            1\n",
       "date_added      13\n",
       "release_year     2\n",
       "rating          13\n",
       "show_id          4\n",
       "dtype: int64"
      ]
     },
     "execution_count": 10,
     "metadata": {},
     "output_type": "execute_result"
    }
   ],
   "source": [
    "dataset.isnull().sum()"
   ]
  },
  {
   "cell_type": "code",
   "execution_count": 11,
   "metadata": {},
   "outputs": [],
   "source": [
    "dataset = dataset[~dataset.type.isnull()].copy()"
   ]
  },
  {
   "cell_type": "code",
   "execution_count": 12,
   "metadata": {},
   "outputs": [
    {
     "data": {
      "text/plain": [
       "type             0\n",
       "title            0\n",
       "date_added      12\n",
       "release_year     1\n",
       "rating          12\n",
       "show_id          3\n",
       "dtype: int64"
      ]
     },
     "execution_count": 12,
     "metadata": {},
     "output_type": "execute_result"
    }
   ],
   "source": [
    "dataset.isnull().sum()"
   ]
  },
  {
   "cell_type": "code",
   "execution_count": 13,
   "metadata": {},
   "outputs": [],
   "source": [
    "date_added = dataset.date_added[0]"
   ]
  },
  {
   "cell_type": "code",
   "execution_count": 14,
   "metadata": {},
   "outputs": [
    {
     "data": {
      "text/plain": [
       "datetime.datetime(2019, 9, 9, 0, 0)"
      ]
     },
     "execution_count": 14,
     "metadata": {},
     "output_type": "execute_result"
    }
   ],
   "source": [
    "date_added"
   ]
  },
  {
   "cell_type": "code",
   "execution_count": 15,
   "metadata": {},
   "outputs": [],
   "source": [
    "dataset.date_added.fillna('2012-01-01',inplace=True)"
   ]
  },
  {
   "cell_type": "code",
   "execution_count": 16,
   "metadata": {},
   "outputs": [
    {
     "data": {
      "text/plain": [
       "type             0\n",
       "title            0\n",
       "date_added       0\n",
       "release_year     1\n",
       "rating          12\n",
       "show_id          3\n",
       "dtype: int64"
      ]
     },
     "execution_count": 16,
     "metadata": {},
     "output_type": "execute_result"
    }
   ],
   "source": [
    "dataset.isnull().sum()"
   ]
  },
  {
   "cell_type": "code",
   "execution_count": 17,
   "metadata": {},
   "outputs": [],
   "source": [
    "dataset = dataset[~dataset.show_id.isnull()].copy()"
   ]
  },
  {
   "cell_type": "code",
   "execution_count": 18,
   "metadata": {},
   "outputs": [
    {
     "data": {
      "text/plain": [
       "type             0\n",
       "title            0\n",
       "date_added       0\n",
       "release_year     0\n",
       "rating          10\n",
       "show_id          0\n",
       "dtype: int64"
      ]
     },
     "execution_count": 18,
     "metadata": {},
     "output_type": "execute_result"
    }
   ],
   "source": [
    "dataset.isnull().sum()"
   ]
  },
  {
   "cell_type": "code",
   "execution_count": 19,
   "metadata": {},
   "outputs": [],
   "source": [
    "dataset.rating.fillna('TV-PG',limit=3,inplace=True)"
   ]
  },
  {
   "cell_type": "code",
   "execution_count": 20,
   "metadata": {},
   "outputs": [
    {
     "data": {
      "text/plain": [
       "type            0\n",
       "title           0\n",
       "date_added      0\n",
       "release_year    0\n",
       "rating          7\n",
       "show_id         0\n",
       "dtype: int64"
      ]
     },
     "execution_count": 20,
     "metadata": {},
     "output_type": "execute_result"
    }
   ],
   "source": [
    "dataset.isnull().sum()"
   ]
  },
  {
   "cell_type": "code",
   "execution_count": 21,
   "metadata": {},
   "outputs": [],
   "source": [
    "dataset.rating.fillna('TV-MA',limit=3,inplace=True)"
   ]
  },
  {
   "cell_type": "code",
   "execution_count": 22,
   "metadata": {},
   "outputs": [],
   "source": [
    "dataset.rating.fillna('TV-14',limit=4,inplace=True)"
   ]
  },
  {
   "cell_type": "code",
   "execution_count": 23,
   "metadata": {},
   "outputs": [
    {
     "data": {
      "text/plain": [
       "type            0\n",
       "title           0\n",
       "date_added      0\n",
       "release_year    0\n",
       "rating          0\n",
       "show_id         0\n",
       "dtype: int64"
      ]
     },
     "execution_count": 23,
     "metadata": {},
     "output_type": "execute_result"
    }
   ],
   "source": [
    "dataset.isnull().sum()"
   ]
  },
  {
   "cell_type": "code",
   "execution_count": 24,
   "metadata": {},
   "outputs": [],
   "source": [
    "import matplotlib.pyplot as plt"
   ]
  },
  {
   "cell_type": "code",
   "execution_count": 25,
   "metadata": {},
   "outputs": [
    {
     "data": {
      "image/png": "[encoded data removed]",
      "text/plain": [
       "<Figure size 432x288 with 1 Axes>"
      ]
     },
     "metadata": {
      "needs_background": "light"
     },
     "output_type": "display_data"
    }
   ],
   "source": [
    "dataset.release_year.value_counts(normalize=True)\n",
    "dataset.release_year.value_counts(normalize=True).plot.barh()\n",
    "plt.show()"
   ]
  },
  {
   "cell_type": "code",
   "execution_count": 26,
   "metadata": {},
   "outputs": [
    {
     "data": {
      "text/plain": [
       "2018.0    0.170571\n",
       "2017.0    0.153883\n",
       "2019.0    0.135270\n",
       "2016.0    0.133184\n",
       "2015.0    0.082798\n",
       "            ...   \n",
       "1970.0    0.000160\n",
       "1925.0    0.000160\n",
       "1954.0    0.000160\n",
       "1947.0    0.000160\n",
       "1955.0    0.000160\n",
       "Name: release_year, Length: 72, dtype: float64"
      ]
     },
     "execution_count": 26,
     "metadata": {},
     "output_type": "execute_result"
    }
   ],
   "source": [
    "dataset.release_year.value_counts(normalize=True)"
   ]
  },
  {
   "cell_type": "code",
   "execution_count": 27,
   "metadata": {},
   "outputs": [
    {
     "data": {
      "image/png": "[encoded data removed]",
      "text/plain": [
       "<Figure size 432x288 with 1 Axes>"
      ]
     },
     "metadata": {
      "needs_background": "light"
     },
     "output_type": "display_data"
    }
   ],
   "source": [
    "dataset.type.value_counts(normalize=True)\n",
    "dataset.type.value_counts(normalize=True).plot.barh()\n",
    "plt.show()"
   ]
  },
  {
   "cell_type": "code",
   "execution_count": 28,
   "metadata": {},
   "outputs": [
    {
     "data": {
      "text/plain": [
       "Movie      0.68405\n",
       "TV Show    0.31595\n",
       "Name: type, dtype: float64"
      ]
     },
     "execution_count": 28,
     "metadata": {},
     "output_type": "execute_result"
    }
   ],
   "source": [
    "dataset.type.value_counts(normalize=True)"
   ]
  },
  {
   "cell_type": "code",
   "execution_count": 29,
   "metadata": {},
   "outputs": [],
   "source": [
    "dataset1 = dataset.head(15)"
   ]
  },
  {
   "cell_type": "code",
   "execution_count": 30,
   "metadata": {},
   "outputs": [
    {
     "data": {
      "text/html": [
       "<div>\n",
       "<style scoped>\n",
       "    .dataframe tbody tr th:only-of-type {\n",
       "        vertical-align: middle;\n",
       "    }\n",
       "\n",
       "    .dataframe tbody tr th {\n",
       "        vertical-align: top;\n",
       "    }\n",
       "\n",
       "    .dataframe thead th {\n",
       "        text-align: right;\n",
       "    }\n",
       "</style>\n",
       "<table border=\"1\" class=\"dataframe\">\n",
       "  <thead>\n",
       "    <tr style=\"text-align: right;\">\n",
       "      <th></th>\n",
       "      <th>type</th>\n",
       "      <th>title</th>\n",
       "      <th>date_added</th>\n",
       "      <th>release_year</th>\n",
       "      <th>rating</th>\n",
       "      <th>show_id</th>\n",
       "    </tr>\n",
       "  </thead>\n",
       "  <tbody>\n",
       "    <tr>\n",
       "      <th>0</th>\n",
       "      <td>Movie</td>\n",
       "      <td>Norm of the North: King Sized Adventure</td>\n",
       "      <td>2019-09-09 00:00:00</td>\n",
       "      <td>2019.0</td>\n",
       "      <td>TV-PG</td>\n",
       "      <td>81145628.0</td>\n",
       "    </tr>\n",
       "    <tr>\n",
       "      <th>1</th>\n",
       "      <td>Movie</td>\n",
       "      <td>Jandino: Whatever it Takes</td>\n",
       "      <td>2016-09-09 00:00:00</td>\n",
       "      <td>2016.0</td>\n",
       "      <td>TV-MA</td>\n",
       "      <td>80117401.0</td>\n",
       "    </tr>\n",
       "    <tr>\n",
       "      <th>2</th>\n",
       "      <td>TV Show</td>\n",
       "      <td>Transformers Prime</td>\n",
       "      <td>2018-09-08 00:00:00</td>\n",
       "      <td>2013.0</td>\n",
       "      <td>TV-Y7-FV</td>\n",
       "      <td>70234439.0</td>\n",
       "    </tr>\n",
       "    <tr>\n",
       "      <th>3</th>\n",
       "      <td>TV Show</td>\n",
       "      <td>Transformers: Robots in Disguise</td>\n",
       "      <td>2018-09-08 00:00:00</td>\n",
       "      <td>2016.0</td>\n",
       "      <td>TV-Y7</td>\n",
       "      <td>80058654.0</td>\n",
       "    </tr>\n",
       "    <tr>\n",
       "      <th>4</th>\n",
       "      <td>Movie</td>\n",
       "      <td>#realityhigh</td>\n",
       "      <td>2017-09-08 00:00:00</td>\n",
       "      <td>2017.0</td>\n",
       "      <td>TV-14</td>\n",
       "      <td>80125979.0</td>\n",
       "    </tr>\n",
       "    <tr>\n",
       "      <th>5</th>\n",
       "      <td>TV Show</td>\n",
       "      <td>Apaches</td>\n",
       "      <td>2017-09-08 00:00:00</td>\n",
       "      <td>2016.0</td>\n",
       "      <td>TV-MA</td>\n",
       "      <td>80163890.0</td>\n",
       "    </tr>\n",
       "    <tr>\n",
       "      <th>6</th>\n",
       "      <td>Movie</td>\n",
       "      <td>Automata</td>\n",
       "      <td>2017-09-08 00:00:00</td>\n",
       "      <td>2014.0</td>\n",
       "      <td>R</td>\n",
       "      <td>70304989.0</td>\n",
       "    </tr>\n",
       "    <tr>\n",
       "      <th>7</th>\n",
       "      <td>Movie</td>\n",
       "      <td>Fabrizio Copano: Solo pienso en mi</td>\n",
       "      <td>2017-09-08 00:00:00</td>\n",
       "      <td>2017.0</td>\n",
       "      <td>TV-MA</td>\n",
       "      <td>80164077.0</td>\n",
       "    </tr>\n",
       "    <tr>\n",
       "      <th>8</th>\n",
       "      <td>TV Show</td>\n",
       "      <td>Fire Chasers</td>\n",
       "      <td>2017-09-08 00:00:00</td>\n",
       "      <td>2017.0</td>\n",
       "      <td>TV-MA</td>\n",
       "      <td>80117902.0</td>\n",
       "    </tr>\n",
       "    <tr>\n",
       "      <th>9</th>\n",
       "      <td>Movie</td>\n",
       "      <td>Good People</td>\n",
       "      <td>2017-09-08 00:00:00</td>\n",
       "      <td>2014.0</td>\n",
       "      <td>R</td>\n",
       "      <td>70304990.0</td>\n",
       "    </tr>\n",
       "    <tr>\n",
       "      <th>10</th>\n",
       "      <td>Movie</td>\n",
       "      <td>Joaquín Reyes: Una y no más</td>\n",
       "      <td>2017-09-08 00:00:00</td>\n",
       "      <td>2017.0</td>\n",
       "      <td>TV-MA</td>\n",
       "      <td>80169755.0</td>\n",
       "    </tr>\n",
       "    <tr>\n",
       "      <th>11</th>\n",
       "      <td>Movie</td>\n",
       "      <td>Kidnapping Mr. Heineken</td>\n",
       "      <td>2017-09-08 00:00:00</td>\n",
       "      <td>2015.0</td>\n",
       "      <td>R</td>\n",
       "      <td>70299204.0</td>\n",
       "    </tr>\n",
       "    <tr>\n",
       "      <th>12</th>\n",
       "      <td>Movie</td>\n",
       "      <td>Krish Trish and Baltiboy</td>\n",
       "      <td>2017-09-08 00:00:00</td>\n",
       "      <td>2009.0</td>\n",
       "      <td>TV-Y7</td>\n",
       "      <td>80182480.0</td>\n",
       "    </tr>\n",
       "    <tr>\n",
       "      <th>13</th>\n",
       "      <td>Movie</td>\n",
       "      <td>Krish Trish and Baltiboy: Battle of Wits</td>\n",
       "      <td>2017-09-08 00:00:00</td>\n",
       "      <td>2013.0</td>\n",
       "      <td>TV-Y7</td>\n",
       "      <td>80182483.0</td>\n",
       "    </tr>\n",
       "    <tr>\n",
       "      <th>14</th>\n",
       "      <td>Movie</td>\n",
       "      <td>Krish Trish and Baltiboy: Best Friends Forever</td>\n",
       "      <td>2017-09-08 00:00:00</td>\n",
       "      <td>2016.0</td>\n",
       "      <td>TV-Y</td>\n",
       "      <td>80182596.0</td>\n",
       "    </tr>\n",
       "  </tbody>\n",
       "</table>\n",
       "</div>"
      ],
      "text/plain": [
       "       type                                           title  \\\n",
       "0     Movie         Norm of the North: King Sized Adventure   \n",
       "1     Movie                      Jandino: Whatever it Takes   \n",
       "2   TV Show                              Transformers Prime   \n",
       "3   TV Show                Transformers: Robots in Disguise   \n",
       "4     Movie                                    #realityhigh   \n",
       "5   TV Show                                         Apaches   \n",
       "6     Movie                                        Automata   \n",
       "7     Movie              Fabrizio Copano: Solo pienso en mi   \n",
       "8   TV Show                                    Fire Chasers   \n",
       "9     Movie                                     Good People   \n",
       "10    Movie                     Joaquín Reyes: Una y no más   \n",
       "11    Movie                         Kidnapping Mr. Heineken   \n",
       "12    Movie                        Krish Trish and Baltiboy   \n",
       "13    Movie        Krish Trish and Baltiboy: Battle of Wits   \n",
       "14    Movie  Krish Trish and Baltiboy: Best Friends Forever   \n",
       "\n",
       "             date_added  release_year    rating     show_id  \n",
       "0   2019-09-09 00:00:00        2019.0     TV-PG  81145628.0  \n",
       "1   2016-09-09 00:00:00        2016.0     TV-MA  80117401.0  \n",
       "2   2018-09-08 00:00:00        2013.0  TV-Y7-FV  70234439.0  \n",
       "3   2018-09-08 00:00:00        2016.0     TV-Y7  80058654.0  \n",
       "4   2017-09-08 00:00:00        2017.0     TV-14  80125979.0  \n",
       "5   2017-09-08 00:00:00        2016.0     TV-MA  80163890.0  \n",
       "6   2017-09-08 00:00:00        2014.0         R  70304989.0  \n",
       "7   2017-09-08 00:00:00        2017.0     TV-MA  80164077.0  \n",
       "8   2017-09-08 00:00:00        2017.0     TV-MA  80117902.0  \n",
       "9   2017-09-08 00:00:00        2014.0         R  70304990.0  \n",
       "10  2017-09-08 00:00:00        2017.0     TV-MA  80169755.0  \n",
       "11  2017-09-08 00:00:00        2015.0         R  70299204.0  \n",
       "12  2017-09-08 00:00:00        2009.0     TV-Y7  80182480.0  \n",
       "13  2017-09-08 00:00:00        2013.0     TV-Y7  80182483.0  \n",
       "14  2017-09-08 00:00:00        2016.0      TV-Y  80182596.0  "
      ]
     },
     "execution_count": 30,
     "metadata": {},
     "output_type": "execute_result"
    }
   ],
   "source": [
    "dataset1"
   ]
  },
  {
   "cell_type": "code",
   "execution_count": 31,
   "metadata": {},
   "outputs": [
    {
     "data": {
      "image/png": "[encoded data removed]",
      "text/plain": [
       "<Figure size 432x288 with 1 Axes>"
      ]
     },
     "metadata": {
      "needs_background": "light"
     },
     "output_type": "display_data"
    }
   ],
   "source": [
    "plt.scatter(dataset1.type,dataset1.release_year)\n",
    "plt.show()"
   ]
  },
  {
   "cell_type": "code",
   "execution_count": 32,
   "metadata": {},
   "outputs": [
    {
     "data": {
      "image/png": "[encoded data removed]",
      "text/plain": [
       "<Figure size 432x288 with 1 Axes>"
      ]
     },
     "metadata": {
      "needs_background": "light"
     },
     "output_type": "display_data"
    }
   ],
   "source": [
    "dataset1.plot.scatter(y='type',x='rating')\n",
    "plt.show()"
   ]
  },
  {
   "cell_type": "code",
   "execution_count": 33,
   "metadata": {},
   "outputs": [],
   "source": [
    "import seaborn as sns"
   ]
  },
  {
   "cell_type": "code",
   "execution_count": 34,
   "metadata": {},
   "outputs": [
    {
     "name": "stderr",
     "output_type": "stream",
     "text": [
      "C:\\ProgramData\\Anaconda3\\lib\\site-packages\\seaborn\\distributions.py:305: UserWarning: Dataset has 0 variance; skipping density estimate.\n",
      "  warnings.warn(msg, UserWarning)\n",
      "C:\\ProgramData\\Anaconda3\\lib\\site-packages\\seaborn\\distributions.py:305: UserWarning: Dataset has 0 variance; skipping density estimate.\n",
      "  warnings.warn(msg, UserWarning)\n",
      "C:\\ProgramData\\Anaconda3\\lib\\site-packages\\seaborn\\distributions.py:305: UserWarning: Dataset has 0 variance; skipping density estimate.\n",
      "  warnings.warn(msg, UserWarning)\n",
      "C:\\ProgramData\\Anaconda3\\lib\\site-packages\\seaborn\\distributions.py:305: UserWarning: Dataset has 0 variance; skipping density estimate.\n",
      "  warnings.warn(msg, UserWarning)\n",
      "C:\\ProgramData\\Anaconda3\\lib\\site-packages\\seaborn\\distributions.py:305: UserWarning: Dataset has 0 variance; skipping density estimate.\n",
      "  warnings.warn(msg, UserWarning)\n",
      "C:\\ProgramData\\Anaconda3\\lib\\site-packages\\seaborn\\distributions.py:305: UserWarning: Dataset has 0 variance; skipping density estimate.\n",
      "  warnings.warn(msg, UserWarning)\n",
      "C:\\ProgramData\\Anaconda3\\lib\\site-packages\\seaborn\\distributions.py:305: UserWarning: Dataset has 0 variance; skipping density estimate.\n",
      "  warnings.warn(msg, UserWarning)\n",
      "C:\\ProgramData\\Anaconda3\\lib\\site-packages\\seaborn\\distributions.py:305: UserWarning: Dataset has 0 variance; skipping density estimate.\n",
      "  warnings.warn(msg, UserWarning)\n"
     ]
    },
    {
     "data": {
      "text/plain": [
       "<seaborn.axisgrid.PairGrid at 0x2dd609acf40>"
      ]
     },
     "execution_count": 34,
     "metadata": {},
     "output_type": "execute_result"
    },
    {
     "data": {
      "image/png": "[encoded data removed]",
      "text/plain": [
       "<Figure size 439.375x360 with 6 Axes>"
      ]
     },
     "metadata": {
      "needs_background": "light"
     },
     "output_type": "display_data"
    }
   ],
   "source": [
    "sns.pairplot(data=dataset1 , hue='rating')"
   ]
  },
  {
   "cell_type": "code",
   "execution_count": 35,
   "metadata": {},
   "outputs": [
    {
     "data": {
      "text/plain": [
       "<AxesSubplot:>"
      ]
     },
     "execution_count": 35,
     "metadata": {},
     "output_type": "execute_result"
    },
    {
     "data": {
      "image/png": "[encoded data removed]",
      "text/plain": [
       "<Figure size 432x288 with 2 Axes>"
      ]
     },
     "metadata": {
      "needs_background": "light"
     },
     "output_type": "display_data"
    }
   ],
   "source": [
    "sns.heatmap(dataset1.corr())"
   ]
  },
  {
   "cell_type": "code",
   "execution_count": 60,
   "metadata": {},
   "outputs": [],
   "source": [
    "target = dataset1['rating']\n",
    "df = dataset1.copy()\n",
    "df = df.drop(['rating','title','date_added'],axis=1)"
   ]
  },
  {
   "cell_type": "code",
   "execution_count": 61,
   "metadata": {},
   "outputs": [],
   "source": [
    "X=df"
   ]
  },
  {
   "cell_type": "code",
   "execution_count": 62,
   "metadata": {},
   "outputs": [
    {
     "data": {
      "text/plain": [
       "0        TV-PG\n",
       "1        TV-MA\n",
       "2     TV-Y7-FV\n",
       "3        TV-Y7\n",
       "4        TV-14\n",
       "5        TV-MA\n",
       "6            R\n",
       "7        TV-MA\n",
       "8        TV-MA\n",
       "9            R\n",
       "10       TV-MA\n",
       "11           R\n",
       "12       TV-Y7\n",
       "13       TV-Y7\n",
       "14        TV-Y\n",
       "Name: rating, dtype: object"
      ]
     },
     "execution_count": 62,
     "metadata": {},
     "output_type": "execute_result"
    }
   ],
   "source": [
    "target"
   ]
  },
  {
   "cell_type": "code",
   "execution_count": 63,
   "metadata": {},
   "outputs": [],
   "source": [
    "%matplotlib inline\n",
    "from sklearn.preprocessing import LabelEncoder\n",
    "from sklearn.model_selection import train_test_split\n",
    "from sklearn.tree import DecisionTreeClassifier\n",
    "from sklearn.metrics import classification_report,confusion_matrix\n",
    "from sklearn.tree import plot_tree"
   ]
  },
  {
   "cell_type": "code",
   "execution_count": 64,
   "metadata": {},
   "outputs": [],
   "source": [
    "le = LabelEncoder()"
   ]
  },
  {
   "cell_type": "code",
   "execution_count": 65,
   "metadata": {},
   "outputs": [
    {
     "data": {
      "text/plain": [
       "array([3, 2, 6, 5, 1, 2, 0, 2, 2, 0, 2, 0, 5, 5, 4])"
      ]
     },
     "execution_count": 65,
     "metadata": {},
     "output_type": "execute_result"
    }
   ],
   "source": [
    "target = le.fit_transform(target)\n",
    "target"
   ]
  },
  {
   "cell_type": "code",
   "execution_count": 66,
   "metadata": {},
   "outputs": [],
   "source": [
    "y=target"
   ]
  },
  {
   "cell_type": "code",
   "execution_count": 67,
   "metadata": {},
   "outputs": [
    {
     "data": {
      "text/html": [
       "<div>\n",
       "<style scoped>\n",
       "    .dataframe tbody tr th:only-of-type {\n",
       "        vertical-align: middle;\n",
       "    }\n",
       "\n",
       "    .dataframe tbody tr th {\n",
       "        vertical-align: top;\n",
       "    }\n",
       "\n",
       "    .dataframe thead th {\n",
       "        text-align: right;\n",
       "    }\n",
       "</style>\n",
       "<table border=\"1\" class=\"dataframe\">\n",
       "  <thead>\n",
       "    <tr style=\"text-align: right;\">\n",
       "      <th></th>\n",
       "      <th>type</th>\n",
       "      <th>release_year</th>\n",
       "      <th>show_id</th>\n",
       "    </tr>\n",
       "  </thead>\n",
       "  <tbody>\n",
       "    <tr>\n",
       "      <th>0</th>\n",
       "      <td>0</td>\n",
       "      <td>2019.0</td>\n",
       "      <td>81145628.0</td>\n",
       "    </tr>\n",
       "    <tr>\n",
       "      <th>1</th>\n",
       "      <td>0</td>\n",
       "      <td>2016.0</td>\n",
       "      <td>80117401.0</td>\n",
       "    </tr>\n",
       "    <tr>\n",
       "      <th>2</th>\n",
       "      <td>1</td>\n",
       "      <td>2013.0</td>\n",
       "      <td>70234439.0</td>\n",
       "    </tr>\n",
       "    <tr>\n",
       "      <th>3</th>\n",
       "      <td>1</td>\n",
       "      <td>2016.0</td>\n",
       "      <td>80058654.0</td>\n",
       "    </tr>\n",
       "    <tr>\n",
       "      <th>4</th>\n",
       "      <td>0</td>\n",
       "      <td>2017.0</td>\n",
       "      <td>80125979.0</td>\n",
       "    </tr>\n",
       "    <tr>\n",
       "      <th>5</th>\n",
       "      <td>1</td>\n",
       "      <td>2016.0</td>\n",
       "      <td>80163890.0</td>\n",
       "    </tr>\n",
       "    <tr>\n",
       "      <th>6</th>\n",
       "      <td>0</td>\n",
       "      <td>2014.0</td>\n",
       "      <td>70304989.0</td>\n",
       "    </tr>\n",
       "    <tr>\n",
       "      <th>7</th>\n",
       "      <td>0</td>\n",
       "      <td>2017.0</td>\n",
       "      <td>80164077.0</td>\n",
       "    </tr>\n",
       "    <tr>\n",
       "      <th>8</th>\n",
       "      <td>1</td>\n",
       "      <td>2017.0</td>\n",
       "      <td>80117902.0</td>\n",
       "    </tr>\n",
       "    <tr>\n",
       "      <th>9</th>\n",
       "      <td>0</td>\n",
       "      <td>2014.0</td>\n",
       "      <td>70304990.0</td>\n",
       "    </tr>\n",
       "    <tr>\n",
       "      <th>10</th>\n",
       "      <td>0</td>\n",
       "      <td>2017.0</td>\n",
       "      <td>80169755.0</td>\n",
       "    </tr>\n",
       "    <tr>\n",
       "      <th>11</th>\n",
       "      <td>0</td>\n",
       "      <td>2015.0</td>\n",
       "      <td>70299204.0</td>\n",
       "    </tr>\n",
       "    <tr>\n",
       "      <th>12</th>\n",
       "      <td>0</td>\n",
       "      <td>2009.0</td>\n",
       "      <td>80182480.0</td>\n",
       "    </tr>\n",
       "    <tr>\n",
       "      <th>13</th>\n",
       "      <td>0</td>\n",
       "      <td>2013.0</td>\n",
       "      <td>80182483.0</td>\n",
       "    </tr>\n",
       "    <tr>\n",
       "      <th>14</th>\n",
       "      <td>0</td>\n",
       "      <td>2016.0</td>\n",
       "      <td>80182596.0</td>\n",
       "    </tr>\n",
       "  </tbody>\n",
       "</table>\n",
       "</div>"
      ],
      "text/plain": [
       "    type  release_year     show_id\n",
       "0      0        2019.0  81145628.0\n",
       "1      0        2016.0  80117401.0\n",
       "2      1        2013.0  70234439.0\n",
       "3      1        2016.0  80058654.0\n",
       "4      0        2017.0  80125979.0\n",
       "5      1        2016.0  80163890.0\n",
       "6      0        2014.0  70304989.0\n",
       "7      0        2017.0  80164077.0\n",
       "8      1        2017.0  80117902.0\n",
       "9      0        2014.0  70304990.0\n",
       "10     0        2017.0  80169755.0\n",
       "11     0        2015.0  70299204.0\n",
       "12     0        2009.0  80182480.0\n",
       "13     0        2013.0  80182483.0\n",
       "14     0        2016.0  80182596.0"
      ]
     },
     "execution_count": 67,
     "metadata": {},
     "output_type": "execute_result"
    }
   ],
   "source": [
    "li = LabelEncoder()\n",
    "df['type'] = li.fit_transform(df['type'])\n",
    "df"
   ]
  },
  {
   "cell_type": "code",
   "execution_count": 68,
   "metadata": {},
   "outputs": [],
   "source": [
    "X_train,X_test,y_train,y_test = train_test_split(X,y,test_size=0.2,random_state=42)"
   ]
  },
  {
   "cell_type": "code",
   "execution_count": 69,
   "metadata": {},
   "outputs": [
    {
     "name": "stdout",
     "output_type": "stream",
     "text": [
      "Training split input- (12, 3)\n",
      "Testing split input- (3, 3)\n"
     ]
    }
   ],
   "source": [
    "print(\"Training split input-\",X_train.shape)\n",
    "print(\"Testing split input-\",X_test.shape)"
   ]
  },
  {
   "cell_type": "code",
   "execution_count": 70,
   "metadata": {},
   "outputs": [
    {
     "name": "stdout",
     "output_type": "stream",
     "text": [
      "Decision tree created\n"
     ]
    }
   ],
   "source": [
    "dtree = DecisionTreeClassifier()\n",
    "dtree.fit(X_train,y_train)\n",
    "print(\"Decision tree created\")"
   ]
  },
  {
   "cell_type": "code",
   "execution_count": 71,
   "metadata": {},
   "outputs": [
    {
     "name": "stdout",
     "output_type": "stream",
     "text": [
      "Classiification report - \n",
      "               precision    recall  f1-score   support\n",
      "\n",
      "           0       1.00      1.00      1.00         2\n",
      "           3       0.00      0.00      0.00         1\n",
      "           4       0.00      0.00      0.00         0\n",
      "\n",
      "    accuracy                           0.67         3\n",
      "   macro avg       0.33      0.33      0.33         3\n",
      "weighted avg       0.67      0.67      0.67         3\n",
      "\n"
     ]
    },
    {
     "name": "stderr",
     "output_type": "stream",
     "text": [
      "C:\\ProgramData\\Anaconda3\\lib\\site-packages\\sklearn\\metrics\\_classification.py:1221: UndefinedMetricWarning: Precision and F-score are ill-defined and being set to 0.0 in labels with no predicted samples. Use `zero_division` parameter to control this behavior.\n",
      "  _warn_prf(average, modifier, msg_start, len(result))\n",
      "C:\\ProgramData\\Anaconda3\\lib\\site-packages\\sklearn\\metrics\\_classification.py:1221: UndefinedMetricWarning: Recall and F-score are ill-defined and being set to 0.0 in labels with no true samples. Use `zero_division` parameter to control this behavior.\n",
      "  _warn_prf(average, modifier, msg_start, len(result))\n"
     ]
    }
   ],
   "source": [
    "y_pred = dtree.predict(X_test)\n",
    "print(\"Classiification report - \\n\",classification_report(y_test,y_pred))"
   ]
  },
  {
   "cell_type": "code",
   "execution_count": 72,
   "metadata": {},
   "outputs": [],
   "source": [
    "cm = confusion_matrix(y_test,y_pred)"
   ]
  },
  {
   "cell_type": "code",
   "execution_count": 74,
   "metadata": {},
   "outputs": [
    {
     "data": {
      "text/plain": [
       "Text(0.5, 1.0, 'Accuracy Score:0.6666666666666666')"
      ]
     },
     "execution_count": 74,
     "metadata": {},
     "output_type": "execute_result"
    },
    {
     "data": {
      "image/png": "[encoded data removed]",
      "text/plain": [
       "<Figure size 360x360 with 2 Axes>"
      ]
     },
     "metadata": {
      "needs_background": "light"
     },
     "output_type": "display_data"
    }
   ],
   "source": [
    "plt.figure(figsize=(5,5))\n",
    "sns.heatmap(data=cm,linewidth=.5 , annot=True,square=True,cmap='Blues')\n",
    "plt.xlabel('Predicted label')\n",
    "all_sample_title = 'Accuracy Score:{0}'.format(dtree.score(X_test,y_test))\n",
    "plt.title(all_sample_title,size=15)"
   ]
  },
  {
   "cell_type": "code",
   "execution_count": 76,
   "metadata": {},
   "outputs": [
    {
     "data": {
      "image/png": "[encoded data removed]",
      "text/plain": [
       "<Figure size 432x288 with 1 Axes>"
      ]
     },
     "metadata": {
      "needs_background": "light"
     },
     "output_type": "display_data"
    }
   ],
   "source": [
    "dec_tree = plot_tree(decision_tree=dtree,feature_names = df.columns,class_names=[\"TV-PG\",\"TV-MA\",\"TV-Y7-FV\"\n",
    "                                                                                 ,\"TV-Y7\",\"TV-14\",\"R\",\n",
    "                                                                                 \"TV-Y\"],filled=True\n",
    "                     ,precision=4,rounded=True)"
   ]
  },
  {
   "cell_type": "code",
   "execution_count": null,
   "metadata": {},
   "outputs": [],
   "source": []
  }
 ],
 "metadata": {
  "kernelspec": {
   "display_name": "Python 3",
   "language": "python",
   "name": "python3"
  },
  "language_info": {
   "codemirror_mode": {
    "name": "ipython",
    "version": 3
   },
   "file_extension": ".py",
   "mimetype": "text/x-python",
   "name": "python",
   "nbconvert_exporter": "python",
   "pygments_lexer": "ipython3",
   "version": "3.8.5"
  }
 },
 "nbformat": 4,
 "nbformat_minor": 4
}
